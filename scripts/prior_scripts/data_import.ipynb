{
  "nbformat": 4,
  "nbformat_minor": 0,
  "metadata": {
    "colab": {
      "name": "data_import.ipynb",
      "provenance": [],
      "collapsed_sections": [],
      "include_colab_link": true
    },
    "kernelspec": {
      "name": "python3",
      "display_name": "Python 3"
    }
  },
  "cells": [
    {
      "cell_type": "markdown",
      "metadata": {
        "id": "view-in-github",
        "colab_type": "text"
      },
      "source": [
        "<a href=\"https://colab.research.google.com/github/adamhb/DS421_proj/blob/master/data_import.ipynb\" target=\"_parent\"><img src=\"https://colab.research.google.com/assets/colab-badge.svg\" alt=\"Open In Colab\"/></a>"
      ]
    },
    {
      "cell_type": "code",
      "metadata": {
        "id": "2nD41ZbzG3I6",
        "colab_type": "code",
        "colab": {}
      },
      "source": [
        "# import necessary libraries in Python\n",
        "import pandas as pd\n",
        "import numpy as np"
      ],
      "execution_count": 0,
      "outputs": []
    },
    {
      "cell_type": "code",
      "metadata": {
        "id": "TgMD-GZmMhvy",
        "colab_type": "code",
        "colab": {}
      },
      "source": [
        "# activate R magic\n",
        "%load_ext rpy2.ipython"
      ],
      "execution_count": 0,
      "outputs": []
    },
    {
      "cell_type": "code",
      "metadata": {
        "id": "GJTmZc5RM5mr",
        "colab_type": "code",
        "outputId": "a243590a-ee47-41cc-ec50-fb2c8e2c6e9e",
        "colab": {
          "base_uri": "https://localhost:8080/",
          "height": 35
        }
      },
      "source": [
        "from rpy2.robjects.packages import importr\n",
        "# import R's \"base\" package\n",
        "base = importr('base')\n",
        "\n",
        "# import rpy2's package module\n",
        "import rpy2.robjects.packages as rpackages\n",
        "\n",
        "# import R's utility package\n",
        "utils = rpackages.importr('utils')\n",
        "\n",
        "# select a mirror for R packages\n",
        "utils.chooseCRANmirror(ind=1) # select the first mirror in the list"
      ],
      "execution_count": 0,
      "outputs": [
        {
          "output_type": "execute_result",
          "data": {
            "text/plain": [
              "rpy2.rinterface.NULL"
            ]
          },
          "metadata": {
            "tags": []
          },
          "execution_count": 3
        }
      ]
    },
    {
      "cell_type": "code",
      "metadata": {
        "id": "2sDBwoepNRyM",
        "colab_type": "code",
        "outputId": "a33cc314-183a-43ee-85b7-857f7205eddf",
        "colab": {
          "base_uri": "https://localhost:8080/",
          "height": 505
        }
      },
      "source": [
        "# R package names\n",
        "utils.install_packages('ggplot2')"
      ],
      "execution_count": 0,
      "outputs": [
        {
          "output_type": "stream",
          "text": [
            "/usr/local/lib/python3.6/dist-packages/rpy2/rinterface/__init__.py:146: RRuntimeWarning: Installing package into ‘/usr/local/lib/R/site-library’\n",
            "(as ‘lib’ is unspecified)\n",
            "\n",
            "  warnings.warn(x, RRuntimeWarning)\n",
            "/usr/local/lib/python3.6/dist-packages/rpy2/rinterface/__init__.py:146: RRuntimeWarning: trying URL 'https://cloud.r-project.org/src/contrib/ggplot2_3.2.1.tar.gz'\n",
            "\n",
            "  warnings.warn(x, RRuntimeWarning)\n",
            "/usr/local/lib/python3.6/dist-packages/rpy2/rinterface/__init__.py:146: RRuntimeWarning: Content type 'application/x-gzip'\n",
            "  warnings.warn(x, RRuntimeWarning)\n",
            "/usr/local/lib/python3.6/dist-packages/rpy2/rinterface/__init__.py:146: RRuntimeWarning:  length 3204655 bytes (3.1 MB)\n",
            "\n",
            "  warnings.warn(x, RRuntimeWarning)\n",
            "/usr/local/lib/python3.6/dist-packages/rpy2/rinterface/__init__.py:146: RRuntimeWarning: =\n",
            "  warnings.warn(x, RRuntimeWarning)\n",
            "/usr/local/lib/python3.6/dist-packages/rpy2/rinterface/__init__.py:146: RRuntimeWarning: \n",
            "\n",
            "  warnings.warn(x, RRuntimeWarning)\n",
            "/usr/local/lib/python3.6/dist-packages/rpy2/rinterface/__init__.py:146: RRuntimeWarning: downloaded 3.1 MB\n",
            "\n",
            "\n",
            "  warnings.warn(x, RRuntimeWarning)\n",
            "/usr/local/lib/python3.6/dist-packages/rpy2/rinterface/__init__.py:146: RRuntimeWarning: \n",
            "  warnings.warn(x, RRuntimeWarning)\n",
            "/usr/local/lib/python3.6/dist-packages/rpy2/rinterface/__init__.py:146: RRuntimeWarning: The downloaded source packages are in\n",
            "\t‘/tmp/RtmpqUJhU1/downloaded_packages’\n",
            "  warnings.warn(x, RRuntimeWarning)\n"
          ],
          "name": "stderr"
        },
        {
          "output_type": "execute_result",
          "data": {
            "text/plain": [
              "rpy2.rinterface.NULL"
            ]
          },
          "metadata": {
            "tags": []
          },
          "execution_count": 4
        }
      ]
    },
    {
      "cell_type": "code",
      "metadata": {
        "id": "g-rhlVBpOFV9",
        "colab_type": "code",
        "outputId": "685612f5-ab28-40fe-a2be-fcb8e5866c44",
        "colab": {
          "base_uri": "https://localhost:8080/",
          "height": 35
        }
      },
      "source": [
        "%%R # Load the necessary libraries in R\n",
        "library(ggplot2)"
      ],
      "execution_count": 0,
      "outputs": [
        {
          "output_type": "display_data",
          "data": {
            "text/plain": [
              "NULL\n"
            ]
          },
          "metadata": {
            "tags": []
          }
        }
      ]
    },
    {
      "cell_type": "code",
      "metadata": {
        "id": "linCS6DaJQb_",
        "colab_type": "code",
        "outputId": "73351d50-fd83-46ff-eede-83138752f8bd",
        "colab": {
          "base_uri": "https://localhost:8080/",
          "height": 141
        }
      },
      "source": [
        "# Mount the Colab notebook in Google Drive\n",
        "from google.colab import drive # import drive from google colab\n",
        "\n",
        "ROOT = \"/content/drive\"     # default location for the drive\n",
        "print(ROOT)                 # print content of ROOT (Optional)\n",
        "\n",
        "drive.mount(ROOT)           # we mount the google drive at /content/drive"
      ],
      "execution_count": 0,
      "outputs": [
        {
          "output_type": "stream",
          "text": [
            "/content/drive\n",
            "Go to this URL in a browser: https://accounts.google.com/o/oauth2/auth?client_id=947318989803-6bn6qk8qdgf4n4g3pfee6491hc0brc4i.apps.googleusercontent.com&redirect_uri=urn%3aietf%3awg%3aoauth%3a2.0%3aoob&response_type=code&scope=email%20https%3a%2f%2fwww.googleapis.com%2fauth%2fdocs.test%20https%3a%2f%2fwww.googleapis.com%2fauth%2fdrive%20https%3a%2f%2fwww.googleapis.com%2fauth%2fdrive.photos.readonly%20https%3a%2f%2fwww.googleapis.com%2fauth%2fpeopleapi.readonly\n",
            "\n",
            "Enter your authorization code:\n",
            "··········\n",
            "Mounted at /content/drive\n"
          ],
          "name": "stdout"
        }
      ]
    },
    {
      "cell_type": "code",
      "metadata": {
        "id": "Y1PAGRhEJ5_T",
        "colab_type": "code",
        "outputId": "c424cc89-7649-4356-c649-5a346e98accd",
        "colab": {
          "base_uri": "https://localhost:8080/",
          "height": 35
        }
      },
      "source": [
        "# Change the command directory to our project folder\n",
        "%cd 'drive/My Drive/DS421_project'"
      ],
      "execution_count": 0,
      "outputs": [
        {
          "output_type": "stream",
          "text": [
            "/content/drive/My Drive/DS421_project\n"
          ],
          "name": "stdout"
        }
      ]
    },
    {
      "cell_type": "code",
      "metadata": {
        "id": "UArDqj4yKVnw",
        "colab_type": "code",
        "colab": {}
      },
      "source": [
        "# Read in the data in Python\n",
        "burn_data = pd.read_csv('data/test_data_2_6_2020.csv')"
      ],
      "execution_count": 0,
      "outputs": []
    },
    {
      "cell_type": "code",
      "metadata": {
        "id": "t-58R6J1KmA9",
        "colab_type": "code",
        "outputId": "c43ed518-b113-405a-ff10-3314d9ee625b",
        "colab": {
          "base_uri": "https://localhost:8080/",
          "height": 222
        }
      },
      "source": [
        "burn_data.head()"
      ],
      "execution_count": 0,
      "outputs": [
        {
          "output_type": "execute_result",
          "data": {
            "text/html": [
              "<div>\n",
              "<style scoped>\n",
              "    .dataframe tbody tr th:only-of-type {\n",
              "        vertical-align: middle;\n",
              "    }\n",
              "\n",
              "    .dataframe tbody tr th {\n",
              "        vertical-align: top;\n",
              "    }\n",
              "\n",
              "    .dataframe thead th {\n",
              "        text-align: right;\n",
              "    }\n",
              "</style>\n",
              "<table border=\"1\" class=\"dataframe\">\n",
              "  <thead>\n",
              "    <tr style=\"text-align: right;\">\n",
              "      <th></th>\n",
              "      <th>system:index</th>\n",
              "      <th>JanTMinF1</th>\n",
              "      <th>JanTMinF2</th>\n",
              "      <th>JanTMinF3</th>\n",
              "      <th>JanTMinF4</th>\n",
              "      <th>JanTMinF5</th>\n",
              "      <th>JulTMaxF1</th>\n",
              "      <th>JulTMaxF2</th>\n",
              "      <th>JulTMaxF3</th>\n",
              "      <th>JulTMaxF4</th>\n",
              "      <th>JulTMaxF5</th>\n",
              "      <th>R10</th>\n",
              "      <th>R15</th>\n",
              "      <th>R5</th>\n",
              "      <th>WSpptF1</th>\n",
              "      <th>WSpptF2</th>\n",
              "      <th>WSpptF3</th>\n",
              "      <th>WSpptF4</th>\n",
              "      <th>WSpptF5</th>\n",
              "      <th>aspect</th>\n",
              "      <th>burnSev</th>\n",
              "      <th>distance</th>\n",
              "      <th>eastness</th>\n",
              "      <th>elevation</th>\n",
              "      <th>northness</th>\n",
              "      <th>numPriorFireLow</th>\n",
              "      <th>numPriorFireMedHigh</th>\n",
              "      <th>patch_ID</th>\n",
              "      <th>slope</th>\n",
              "      <th>.geo</th>\n",
              "    </tr>\n",
              "  </thead>\n",
              "  <tbody>\n",
              "    <tr>\n",
              "      <th>0</th>\n",
              "      <td>0</td>\n",
              "      <td>-0.19</td>\n",
              "      <td>0.7</td>\n",
              "      <td>-0.48</td>\n",
              "      <td>1.09</td>\n",
              "      <td>0.63</td>\n",
              "      <td>29.37</td>\n",
              "      <td>33.41</td>\n",
              "      <td>30.1</td>\n",
              "      <td>32.52</td>\n",
              "      <td>31.05</td>\n",
              "      <td>1.128920</td>\n",
              "      <td>1.180464</td>\n",
              "      <td>1.064460</td>\n",
              "      <td>2175.870041</td>\n",
              "      <td>2175.870041</td>\n",
              "      <td>2175.870041</td>\n",
              "      <td>2175.870041</td>\n",
              "      <td>2175.870041</td>\n",
              "      <td>161.86200</td>\n",
              "      <td>1</td>\n",
              "      <td>0.0</td>\n",
              "      <td>0.311307</td>\n",
              "      <td>512</td>\n",
              "      <td>-0.950309</td>\n",
              "      <td>0</td>\n",
              "      <td>0</td>\n",
              "      <td>545.003597</td>\n",
              "      <td>37.471590</td>\n",
              "      <td>NaN</td>\n",
              "    </tr>\n",
              "    <tr>\n",
              "      <th>1</th>\n",
              "      <td>1</td>\n",
              "      <td>-0.19</td>\n",
              "      <td>0.7</td>\n",
              "      <td>-0.48</td>\n",
              "      <td>1.09</td>\n",
              "      <td>0.63</td>\n",
              "      <td>29.37</td>\n",
              "      <td>33.41</td>\n",
              "      <td>30.1</td>\n",
              "      <td>32.52</td>\n",
              "      <td>31.05</td>\n",
              "      <td>1.258264</td>\n",
              "      <td>1.324288</td>\n",
              "      <td>1.129132</td>\n",
              "      <td>2175.870041</td>\n",
              "      <td>2175.870041</td>\n",
              "      <td>2175.870041</td>\n",
              "      <td>2175.870041</td>\n",
              "      <td>2175.870041</td>\n",
              "      <td>162.23126</td>\n",
              "      <td>1</td>\n",
              "      <td>0.0</td>\n",
              "      <td>0.305176</td>\n",
              "      <td>506</td>\n",
              "      <td>-0.952296</td>\n",
              "      <td>0</td>\n",
              "      <td>0</td>\n",
              "      <td>571.340671</td>\n",
              "      <td>38.023240</td>\n",
              "      <td>NaN</td>\n",
              "    </tr>\n",
              "    <tr>\n",
              "      <th>2</th>\n",
              "      <td>2</td>\n",
              "      <td>-0.19</td>\n",
              "      <td>0.7</td>\n",
              "      <td>-0.48</td>\n",
              "      <td>1.09</td>\n",
              "      <td>0.63</td>\n",
              "      <td>29.37</td>\n",
              "      <td>33.41</td>\n",
              "      <td>30.1</td>\n",
              "      <td>32.52</td>\n",
              "      <td>31.05</td>\n",
              "      <td>1.076553</td>\n",
              "      <td>1.114830</td>\n",
              "      <td>1.038277</td>\n",
              "      <td>2175.870041</td>\n",
              "      <td>2175.870041</td>\n",
              "      <td>2175.870041</td>\n",
              "      <td>2175.870041</td>\n",
              "      <td>2175.870041</td>\n",
              "      <td>162.69006</td>\n",
              "      <td>1</td>\n",
              "      <td>0.0</td>\n",
              "      <td>0.297540</td>\n",
              "      <td>501</td>\n",
              "      <td>-0.954709</td>\n",
              "      <td>0</td>\n",
              "      <td>0</td>\n",
              "      <td>520.176561</td>\n",
              "      <td>36.095620</td>\n",
              "      <td>NaN</td>\n",
              "    </tr>\n",
              "    <tr>\n",
              "      <th>3</th>\n",
              "      <td>3</td>\n",
              "      <td>-0.19</td>\n",
              "      <td>0.7</td>\n",
              "      <td>-0.48</td>\n",
              "      <td>1.09</td>\n",
              "      <td>0.63</td>\n",
              "      <td>29.37</td>\n",
              "      <td>33.41</td>\n",
              "      <td>30.1</td>\n",
              "      <td>32.52</td>\n",
              "      <td>31.05</td>\n",
              "      <td>0.999376</td>\n",
              "      <td>1.047109</td>\n",
              "      <td>1.053824</td>\n",
              "      <td>2175.870041</td>\n",
              "      <td>2175.870041</td>\n",
              "      <td>2175.870041</td>\n",
              "      <td>2175.870041</td>\n",
              "      <td>2175.870041</td>\n",
              "      <td>159.58195</td>\n",
              "      <td>1</td>\n",
              "      <td>0.0</td>\n",
              "      <td>0.348867</td>\n",
              "      <td>496</td>\n",
              "      <td>-0.937172</td>\n",
              "      <td>1</td>\n",
              "      <td>0</td>\n",
              "      <td>522.696670</td>\n",
              "      <td>31.874498</td>\n",
              "      <td>NaN</td>\n",
              "    </tr>\n",
              "    <tr>\n",
              "      <th>4</th>\n",
              "      <td>4</td>\n",
              "      <td>-0.19</td>\n",
              "      <td>0.7</td>\n",
              "      <td>-0.48</td>\n",
              "      <td>1.09</td>\n",
              "      <td>0.63</td>\n",
              "      <td>29.37</td>\n",
              "      <td>33.41</td>\n",
              "      <td>30.1</td>\n",
              "      <td>32.52</td>\n",
              "      <td>31.05</td>\n",
              "      <td>1.024097</td>\n",
              "      <td>1.036146</td>\n",
              "      <td>1.012049</td>\n",
              "      <td>2175.870041</td>\n",
              "      <td>2175.870041</td>\n",
              "      <td>2175.870041</td>\n",
              "      <td>2175.870041</td>\n",
              "      <td>2175.870041</td>\n",
              "      <td>162.07480</td>\n",
              "      <td>1</td>\n",
              "      <td>0.0</td>\n",
              "      <td>0.307775</td>\n",
              "      <td>491</td>\n",
              "      <td>-0.951459</td>\n",
              "      <td>0</td>\n",
              "      <td>0</td>\n",
              "      <td>496.915919</td>\n",
              "      <td>26.261509</td>\n",
              "      <td>NaN</td>\n",
              "    </tr>\n",
              "  </tbody>\n",
              "</table>\n",
              "</div>"
            ],
            "text/plain": [
              "   system:index  JanTMinF1  JanTMinF2  ...    patch_ID      slope  .geo\n",
              "0             0      -0.19        0.7  ...  545.003597  37.471590   NaN\n",
              "1             1      -0.19        0.7  ...  571.340671  38.023240   NaN\n",
              "2             2      -0.19        0.7  ...  520.176561  36.095620   NaN\n",
              "3             3      -0.19        0.7  ...  522.696670  31.874498   NaN\n",
              "4             4      -0.19        0.7  ...  496.915919  26.261509   NaN\n",
              "\n",
              "[5 rows x 30 columns]"
            ]
          },
          "metadata": {
            "tags": []
          },
          "execution_count": 11
        }
      ]
    },
    {
      "cell_type": "code",
      "metadata": {
        "id": "RrijseZmLPkq",
        "colab_type": "code",
        "outputId": "13218453-b75d-43b7-ef31-44c899451258",
        "colab": {
          "base_uri": "https://localhost:8080/",
          "height": 225
        }
      },
      "source": [
        "#looking at burn sev\n",
        "burn_data['burnSev']\n"
      ],
      "execution_count": 0,
      "outputs": [
        {
          "output_type": "execute_result",
          "data": {
            "text/plain": [
              "0        1\n",
              "1        1\n",
              "2        1\n",
              "3        1\n",
              "4        1\n",
              "        ..\n",
              "12252    0\n",
              "12253    0\n",
              "12254    0\n",
              "12255    0\n",
              "12256    0\n",
              "Name: burnSev, Length: 12257, dtype: int64"
            ]
          },
          "metadata": {
            "tags": []
          },
          "execution_count": 13
        }
      ]
    },
    {
      "cell_type": "code",
      "metadata": {
        "id": "mwVxPGHLKqso",
        "colab_type": "code",
        "outputId": "5e98b34d-90eb-4033-d96a-3ce9aa8baa0e",
        "colab": {
          "base_uri": "https://localhost:8080/",
          "height": 314
        }
      },
      "source": [
        "burn_data.hist(column='burnSev')"
      ],
      "execution_count": 0,
      "outputs": [
        {
          "output_type": "execute_result",
          "data": {
            "text/plain": [
              "array([[<matplotlib.axes._subplots.AxesSubplot object at 0x7f1b8a6130f0>]],\n",
              "      dtype=object)"
            ]
          },
          "metadata": {
            "tags": []
          },
          "execution_count": 42
        },
        {
          "output_type": "display_data",
          "data": {
            "image/png": "[encoded data removed]",
            "text/plain": [
              "<Figure size 432x288 with 1 Axes>"
            ]
          },
          "metadata": {
            "tags": []
          }
        }
      ]
    },
    {
      "cell_type": "code",
      "metadata": {
        "id": "fqCwQOlmOV0Z",
        "colab_type": "code",
        "colab": {}
      },
      "source": [
        "%%R # Read in the data in R\n",
        "burn_data <- read.csv(file = 'data/test_data_2_6_2020.csv')"
      ],
      "execution_count": 0,
      "outputs": []
    },
    {
      "cell_type": "code",
      "metadata": {
        "id": "1_icGdt3OmD0",
        "colab_type": "code",
        "outputId": "d698b429-d589-4a93-ddcb-1146778d8aa0",
        "colab": {
          "base_uri": "https://localhost:8080/",
          "height": 958
        }
      },
      "source": [
        "%%R # Summarize data with R\n",
        "summary(burn_data)"
      ],
      "execution_count": 0,
      "outputs": [
        {
          "output_type": "display_data",
          "data": {
            "text/plain": [
              "  system.index     JanTMinF1         JanTMinF2        JanTMinF3      \n",
              " Min.   :    0   Min.   :-0.8800   Min.   :0.2900   Min.   :-0.8200  \n",
              " 1st Qu.: 3064   1st Qu.:-0.4200   1st Qu.:0.7000   1st Qu.:-0.4800  \n",
              " Median : 6128   Median :-0.4200   Median :0.8400   Median :-0.1000  \n",
              " Mean   : 6128   Mean   :-0.3679   Mean   :0.7969   Mean   :-0.2041  \n",
              " 3rd Qu.: 9192   3rd Qu.:-0.1900   3rd Qu.:0.8400   3rd Qu.:-0.1000  \n",
              " Max.   :12256   Max.   :-0.1900   Max.   :0.8400   Max.   :-0.1000  \n",
              "   JanTMinF4       JanTMinF5       JulTMaxF1       JulTMaxF2    \n",
              " Min.   :0.560   Min.   :0.630   Min.   :26.93   Min.   :31.06  \n",
              " 1st Qu.:1.090   1st Qu.:0.630   1st Qu.:28.70   1st Qu.:32.78  \n",
              " Median :1.160   Median :1.300   Median :28.70   Median :32.78  \n",
              " Mean   :1.134   Mean   :1.136   Mean   :28.84   Mean   :32.92  \n",
              " 3rd Qu.:1.160   3rd Qu.:1.300   3rd Qu.:29.37   3rd Qu.:33.41  \n",
              " Max.   :1.160   Max.   :1.830   Max.   :29.37   Max.   :33.41  \n",
              "   JulTMaxF3       JulTMaxF4       JulTMaxF5          R10           \n",
              " Min.   :27.73   Min.   :30.02   Min.   :28.56   Min.   :-552.2106  \n",
              " 1st Qu.:29.51   1st Qu.:31.83   1st Qu.:30.38   1st Qu.:   0.7480  \n",
              " Median :29.51   Median :31.83   Median :30.38   Median :   0.9362  \n",
              " Mean   :29.63   Mean   :31.98   Mean   :30.52   Mean   :   0.8796  \n",
              " 3rd Qu.:30.10   3rd Qu.:32.52   3rd Qu.:31.05   3rd Qu.:   1.1149  \n",
              " Max.   :30.10   Max.   :32.52   Max.   :31.05   Max.   : 564.9514  \n",
              "      R15                  R5               WSpptF1        WSpptF2    \n",
              " Min.   :-664.2624   Min.   :-440.1588   Min.   :2176   Min.   :2176  \n",
              " 1st Qu.:   0.8644   1st Qu.:   0.6084   1st Qu.:2176   1st Qu.:2176  \n",
              " Median :   0.9783   Median :   0.8573   Median :2334   Median :2334  \n",
              " Mean   :   0.9912   Mean   :   0.7478   Mean   :2302   Mean   :2302  \n",
              " 3rd Qu.:   1.1999   3rd Qu.:   1.0352   3rd Qu.:2334   3rd Qu.:2334  \n",
              " Max.   : 770.5087   Max.   : 399.3599   Max.   :2923   Max.   :2923  \n",
              "    WSpptF3        WSpptF4        WSpptF5         aspect          burnSev     \n",
              " Min.   :2176   Min.   :2176   Min.   :2176   Min.   :  0.00   Min.   :0.000  \n",
              " 1st Qu.:2176   1st Qu.:2176   1st Qu.:2176   1st Qu.: 45.99   1st Qu.:1.000  \n",
              " Median :2334   Median :2334   Median :2334   Median :184.51   Median :2.000  \n",
              " Mean   :2302   Mean   :2302   Mean   :2302   Mean   :178.59   Mean   :2.006  \n",
              " 3rd Qu.:2334   3rd Qu.:2334   3rd Qu.:2334   3rd Qu.:315.37   3rd Qu.:3.000  \n",
              " Max.   :2923   Max.   :2923   Max.   :2923   Max.   :358.43   Max.   :4.000  \n",
              "    distance         eastness          elevation        northness      \n",
              " Min.   :  0.00   Min.   :-1.00000   Min.   : 413.0   Min.   :-1.0000  \n",
              " 1st Qu.:  0.00   1st Qu.:-0.59445   1st Qu.: 608.0   1st Qu.: 0.2414  \n",
              " Median :  0.00   Median :-0.03938   Median : 760.0   Median : 0.7053  \n",
              " Mean   : 30.10   Mean   : 0.00874   Mean   : 785.1   Mean   : 0.4786  \n",
              " 3rd Qu.: 20.94   3rd Qu.: 0.65265   3rd Qu.: 934.0   3rd Qu.: 0.9131  \n",
              " Max.   :394.03   Max.   : 1.00000   Max.   :1431.0   Max.   : 1.0000  \n",
              " numPriorFireLow   numPriorFireMedHigh    patch_ID             slope      \n",
              " Min.   :0.00000   Min.   :0.0000      Min.   :-263655.1   Min.   : 0.00  \n",
              " 1st Qu.:0.00000   1st Qu.:0.0000      1st Qu.:    428.5   1st Qu.:18.53  \n",
              " Median :0.00000   Median :0.0000      Median :    591.9   Median :24.51  \n",
              " Mean   :0.09921   Mean   :0.1307      Mean   :    613.3   Mean   :24.33  \n",
              " 3rd Qu.:0.00000   3rd Qu.:0.0000      3rd Qu.:    863.0   3rd Qu.:30.18  \n",
              " Max.   :1.00000   Max.   :1.0000      Max.   : 349040.5   Max.   :54.86  \n",
              "   .geo        \n",
              " Mode:logical  \n",
              " NA's:12257    \n",
              "               \n",
              "               \n",
              "               \n",
              "               \n"
            ]
          },
          "metadata": {
            "tags": []
          }
        }
      ]
    },
    {
      "cell_type": "code",
      "metadata": {
        "id": "IP-_JYRAMY7v",
        "colab_type": "code",
        "outputId": "785ad423-1bf0-457c-f74c-375278ccb235",
        "colab": {
          "base_uri": "https://localhost:8080/",
          "height": 567
        }
      },
      "source": [
        "%%R\n",
        "ggplot(data=burn_data, aes(burn_data$burnSev)) + \n",
        "  geom_histogram()"
      ],
      "execution_count": 0,
      "outputs": [
        {
          "output_type": "stream",
          "text": [
            "/usr/local/lib/python3.6/dist-packages/rpy2/rinterface/__init__.py:146: RRuntimeWarning: `stat_bin()` using `bins = 30`. Pick better value with `binwidth`.\n",
            "\n",
            "  warnings.warn(x, RRuntimeWarning)\n"
          ],
          "name": "stderr"
        },
        {
          "output_type": "display_data",
          "data": {
            "image/png": "[encoded data removed]"
          },
          "metadata": {
            "tags": []
          }
        }
      ]
    }
  ]
}